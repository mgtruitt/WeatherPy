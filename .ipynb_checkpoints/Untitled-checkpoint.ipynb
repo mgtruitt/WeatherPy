{
 "cells": [
  {
   "cell_type": "code",
   "execution_count": 1,
   "metadata": {},
   "outputs": [],
   "source": [
    "#! pip install citipy\n",
    "#! pip install unidecode"
   ]
  },
  {
   "cell_type": "code",
   "execution_count": 2,
   "metadata": {},
   "outputs": [],
   "source": [
    "# Dependencies and Setup\n",
    "import seaborn as sns\n",
    "import matplotlib.pyplot as plt\n",
    "import pandas as pd\n",
    "import numpy as np\n",
    "import requests as req\n",
    "import time\n",
    "import csv\n",
    "import random\n",
    "import requests\n",
    "import api_keys\n",
    "import math\n",
    "import os\n",
    "\n",
    "\n",
    "# Incorporated citipy to determine city based on latitude and longitude\n",
    "from citipy import citipy\n",
    "\n",
    "# Output File (CSV)\n",
    "output_data_file = \"output_data/cities.csv\"\n",
    "\n",
    "# Range of latitudes and longitudes\n",
    "lat_range = (-90, 90)\n",
    "lng_range = (-180, 180)"
   ]
  },
  {
   "cell_type": "code",
   "execution_count": null,
   "metadata": {},
   "outputs": [],
   "source": []
  },
  {
   "cell_type": "code",
   "execution_count": 3,
   "metadata": {},
   "outputs": [
    {
     "data": {
      "text/plain": [
       "578"
      ]
     },
     "execution_count": 3,
     "metadata": {},
     "output_type": "execute_result"
    }
   ],
   "source": [
    "lat_lngs = []\n",
    "cities = []\n",
    "Country = []\n",
    " \n",
    "lats = np.random.uniform(low=-90.000, high=90.000, size=1500)\n",
    "lngs = np.random.uniform(low=-180.000, high=180.000, size=1500)\n",
    "lat_lngs = zip(lats, lngs)\n",
    "\n",
    "for lat_lng in lat_lngs:\n",
    "    city = citipy.nearest_city(lat_lng[0], lat_lng[1]).city_name\n",
    "    country = citipy.nearest_city(lat_lng[0], lat_lng[1]).country_code\n",
    "  \n",
    "    if city not in cities:\n",
    "        cities.append(city)\n",
    "        Country.append(country)\n",
    "\n",
    "len(cities)"
   ]
  },
  {
   "cell_type": "code",
   "execution_count": 4,
   "metadata": {},
   "outputs": [
    {
     "data": {
      "text/html": [
       "<div>\n",
       "<style scoped>\n",
       "    .dataframe tbody tr th:only-of-type {\n",
       "        vertical-align: middle;\n",
       "    }\n",
       "\n",
       "    .dataframe tbody tr th {\n",
       "        vertical-align: top;\n",
       "    }\n",
       "\n",
       "    .dataframe thead th {\n",
       "        text-align: right;\n",
       "    }\n",
       "</style>\n",
       "<table border=\"1\" class=\"dataframe\">\n",
       "  <thead>\n",
       "    <tr style=\"text-align: right;\">\n",
       "      <th></th>\n",
       "      <th>rand_lat</th>\n",
       "      <th>rand_lng</th>\n",
       "      <th>closest_city</th>\n",
       "      <th>country</th>\n",
       "    </tr>\n",
       "  </thead>\n",
       "  <tbody>\n",
       "    <tr>\n",
       "      <th>0</th>\n",
       "      <td>-46.918913</td>\n",
       "      <td>174.473402</td>\n",
       "      <td>albany</td>\n",
       "      <td>au</td>\n",
       "    </tr>\n",
       "    <tr>\n",
       "      <th>1</th>\n",
       "      <td>25.056764</td>\n",
       "      <td>121.320803</td>\n",
       "      <td>albany</td>\n",
       "      <td>au</td>\n",
       "    </tr>\n",
       "    <tr>\n",
       "      <th>2</th>\n",
       "      <td>27.565546</td>\n",
       "      <td>4.733968</td>\n",
       "      <td>albany</td>\n",
       "      <td>au</td>\n",
       "    </tr>\n",
       "    <tr>\n",
       "      <th>3</th>\n",
       "      <td>-50.608187</td>\n",
       "      <td>111.951000</td>\n",
       "      <td>albany</td>\n",
       "      <td>au</td>\n",
       "    </tr>\n",
       "    <tr>\n",
       "      <th>4</th>\n",
       "      <td>19.008478</td>\n",
       "      <td>149.822527</td>\n",
       "      <td>albany</td>\n",
       "      <td>au</td>\n",
       "    </tr>\n",
       "  </tbody>\n",
       "</table>\n",
       "</div>"
      ],
      "text/plain": [
       "    rand_lat    rand_lng closest_city country\n",
       "0 -46.918913  174.473402       albany      au\n",
       "1  25.056764  121.320803       albany      au\n",
       "2  27.565546    4.733968       albany      au\n",
       "3 -50.608187  111.951000       albany      au\n",
       "4  19.008478  149.822527       albany      au"
      ]
     },
     "execution_count": 4,
     "metadata": {},
     "output_type": "execute_result"
    }
   ],
   "source": [
    "cities = pd.DataFrame()\n",
    "cities['rand_lat'] = lats\n",
    "cities['rand_lng'] = lngs\n",
    "\n",
    "for index, row in cities.iterrows():\n",
    "    lat = row['rand_lat']\n",
    "    lng = row['rand_lng']\n",
    "    cities['closest_city'] = citipy.nearest_city(lat_lng[0], lat_lng[1]).city_name\n",
    "    cities['country'] = citipy.nearest_city(lat_lng[0], lat_lng[1]).country_code\n",
    "#location = location.drop_duplicates(['closest_city', 'country'])\n",
    "#location = location.dropna()\n",
    "#len(location['closest_city'].value_counts())\n",
    "\n",
    "cities.head()"
   ]
  },
  {
   "cell_type": "code",
   "execution_count": 5,
   "metadata": {},
   "outputs": [
    {
     "data": {
      "text/html": [
       "<div>\n",
       "<style scoped>\n",
       "    .dataframe tbody tr th:only-of-type {\n",
       "        vertical-align: middle;\n",
       "    }\n",
       "\n",
       "    .dataframe tbody tr th {\n",
       "        vertical-align: top;\n",
       "    }\n",
       "\n",
       "    .dataframe thead th {\n",
       "        text-align: right;\n",
       "    }\n",
       "</style>\n",
       "<table border=\"1\" class=\"dataframe\">\n",
       "  <thead>\n",
       "    <tr style=\"text-align: right;\">\n",
       "      <th></th>\n",
       "      <th>Country</th>\n",
       "      <th>City</th>\n",
       "      <th>Latitude</th>\n",
       "      <th>Longitude</th>\n",
       "    </tr>\n",
       "  </thead>\n",
       "  <tbody>\n",
       "    <tr>\n",
       "      <th>45480</th>\n",
       "      <td>us</td>\n",
       "      <td>mauldin</td>\n",
       "      <td>34.778611</td>\n",
       "      <td>-82.310278</td>\n",
       "    </tr>\n",
       "    <tr>\n",
       "      <th>22709</th>\n",
       "      <td>ly</td>\n",
       "      <td>zlitan</td>\n",
       "      <td>32.466667</td>\n",
       "      <td>14.566667</td>\n",
       "    </tr>\n",
       "    <tr>\n",
       "      <th>8874</th>\n",
       "      <td>de</td>\n",
       "      <td>gartringen</td>\n",
       "      <td>48.650000</td>\n",
       "      <td>8.900000</td>\n",
       "    </tr>\n",
       "    <tr>\n",
       "      <th>34550</th>\n",
       "      <td>ro</td>\n",
       "      <td>turburea</td>\n",
       "      <td>44.716667</td>\n",
       "      <td>23.516667</td>\n",
       "    </tr>\n",
       "    <tr>\n",
       "      <th>44025</th>\n",
       "      <td>us</td>\n",
       "      <td>bay city</td>\n",
       "      <td>43.594444</td>\n",
       "      <td>-83.888889</td>\n",
       "    </tr>\n",
       "  </tbody>\n",
       "</table>\n",
       "</div>"
      ],
      "text/plain": [
       "      Country        City   Latitude  Longitude\n",
       "45480      us     mauldin  34.778611 -82.310278\n",
       "22709      ly      zlitan  32.466667  14.566667\n",
       "8874       de  gartringen  48.650000   8.900000\n",
       "34550      ro    turburea  44.716667  23.516667\n",
       "44025      us    bay city  43.594444 -83.888889"
      ]
     },
     "execution_count": 5,
     "metadata": {},
     "output_type": "execute_result"
    }
   ],
   "source": [
    "citypy = os.path.join(\"worldcities.csv\")\n",
    "citipy_CSV = pd.read_csv(citypy)\n",
    "citypy_CSV = citipy_CSV.sample(n=505)\n",
    "citypy_CSV.head()"
   ]
  },
  {
   "cell_type": "code",
   "execution_count": 8,
   "metadata": {},
   "outputs": [
    {
     "ename": "KeyError",
     "evalue": "'main'",
     "output_type": "error",
     "traceback": [
      "\u001b[1;31m---------------------------------------------------------------------------\u001b[0m",
      "\u001b[1;31mKeyError\u001b[0m                                  Traceback (most recent call last)",
      "\u001b[1;32m<ipython-input-8-d641f3bcf2e2>\u001b[0m in \u001b[0;36m<module>\u001b[1;34m()\u001b[0m\n\u001b[0;32m     14\u001b[0m     \u001b[0mcount\u001b[0m \u001b[1;33m+=\u001b[0m \u001b[1;36m1\u001b[0m\u001b[1;33m\u001b[0m\u001b[0m\n\u001b[0;32m     15\u001b[0m     \u001b[0mweather\u001b[0m \u001b[1;33m=\u001b[0m \u001b[0mrequests\u001b[0m\u001b[1;33m.\u001b[0m\u001b[0mget\u001b[0m\u001b[1;33m(\u001b[0m\u001b[0mquery_url\u001b[0m\u001b[1;33m)\u001b[0m\u001b[1;33m.\u001b[0m\u001b[0mjson\u001b[0m\u001b[1;33m(\u001b[0m\u001b[1;33m)\u001b[0m\u001b[1;33m\u001b[0m\u001b[0m\n\u001b[1;32m---> 16\u001b[1;33m     \u001b[0mtemperature\u001b[0m \u001b[1;33m=\u001b[0m \u001b[0mweather\u001b[0m\u001b[1;33m[\u001b[0m\u001b[1;34m\"main\"\u001b[0m\u001b[1;33m]\u001b[0m\u001b[1;33m[\u001b[0m\u001b[1;34m\"temp\"\u001b[0m\u001b[1;33m]\u001b[0m\u001b[1;33m\u001b[0m\u001b[0m\n\u001b[0m\u001b[0;32m     17\u001b[0m     \u001b[0mcitypy_CSV\u001b[0m\u001b[1;33m.\u001b[0m\u001b[0mset_value\u001b[0m\u001b[1;33m(\u001b[0m\u001b[0mindex\u001b[0m\u001b[1;33m,\u001b[0m \u001b[1;34m\"Temperature\"\u001b[0m\u001b[1;33m,\u001b[0m \u001b[0mtemperature\u001b[0m\u001b[1;33m)\u001b[0m\u001b[1;33m\u001b[0m\u001b[0m\n\u001b[0;32m     18\u001b[0m \u001b[1;33m\u001b[0m\u001b[0m\n",
      "\u001b[1;31mKeyError\u001b[0m: 'main'"
     ]
    }
   ],
   "source": [
    "count = 0\n",
    "api_key = api_keys.api_key\n",
    "url = \"http://api.openweathermap.org/data/2.5/weather?units=Imperial&APPID=\" + api_key \n",
    "units = \"imperial\" \n",
    "query_url = url + \"lat=\" + str(row[\"Latitude\"]) + \"&lon=\" + str(row[\"Longitude\"]) +\"&units=\" + units\n",
    "\n",
    "citypy_CSV[\"Temperature\"] = \"\"\n",
    "citypy_CSV[\"Humidity\"] = \"\"\n",
    "citypy_CSV[\"Cloudiness\"] = \"\"\n",
    "citypy_CSV[\"Wind Speed\"] = \"\"\n",
    "\n",
    "for index, row in citypy_CSV.iterrows():\n",
    "    time.sleep(5)\n",
    "    count += 1\n",
    "    weather = requests.get(query_url).json()\n",
    "    temperature = weather[\"main\"][\"temp\"]\n",
    "    humidity = weather[\"main\"][\"humidity\"]\n",
    "    cloudiness = weather[\"clouds\"][\"all\"]\n",
    "    windSpeed = weather[\"wind\"][\"speed\"]\n",
    "    \n",
    "    \n",
    "    citypy_CSV.set_value(index, \"Temperature\", temperature)\n",
    "    citypy_CSV.set_value(index, \"Humidity\", humidity)\n",
    "    citypy_CSV.set_value(index, \"Cloudiness\", cloudiness)\n",
    "    citypy_CSV.set_value(index, \"Wind Speed\", windSpeed)\n",
    "citypy_CSV"
   ]
  },
  {
   "cell_type": "code",
   "execution_count": null,
   "metadata": {},
   "outputs": [],
   "source": []
  }
 ],
 "metadata": {
  "kernelspec": {
   "display_name": "Python 3",
   "language": "python",
   "name": "python3"
  },
  "language_info": {
   "codemirror_mode": {
    "name": "ipython",
    "version": 3
   },
   "file_extension": ".py",
   "mimetype": "text/x-python",
   "name": "python",
   "nbconvert_exporter": "python",
   "pygments_lexer": "ipython3",
   "version": "3.6.4"
  }
 },
 "nbformat": 4,
 "nbformat_minor": 2
}
